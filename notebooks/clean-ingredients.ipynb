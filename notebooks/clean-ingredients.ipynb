{
 "cells": [
  {
   "cell_type": "markdown",
   "metadata": {},
   "source": [
    "We have many more ingredients than recipes; we need to group ingredients into broader categories"
   ]
  },
  {
   "cell_type": "code",
   "execution_count": 1,
   "metadata": {},
   "outputs": [],
   "source": [
    "import pandas as pd"
   ]
  },
  {
   "cell_type": "code",
   "execution_count": 3,
   "metadata": {},
   "outputs": [],
   "source": [
    "df = pd.read_parquet(\"../data/recipe_ingredient_matrix.parquet\")\n",
    "ingredients = df.columns.tolist()"
   ]
  },
  {
   "cell_type": "code",
   "execution_count": 5,
   "metadata": {},
   "outputs": [
    {
     "data": {
      "text/plain": [
       "['maple syrup',\n",
       " 'maple-tamarind syrup',\n",
       " 'soured maple water',\n",
       " 'maple honey',\n",
       " 'grade A Vermont maple syrup',\n",
       " 'Ginger-Maple Syrup',\n",
       " 'maple-fig syrup']"
      ]
     },
     "execution_count": 5,
     "metadata": {},
     "output_type": "execute_result"
    }
   ],
   "source": [
    "[x for x in ingredients if \"maple\" in x.lower()]"
   ]
  },
  {
   "cell_type": "code",
   "execution_count": 7,
   "metadata": {},
   "outputs": [],
   "source": [
    "import sys\n",
    "\n",
    "sys.path.append(\"../scripts\")\n",
    "from rationalize_ingredients import IngredientParser\n",
    "\n",
    "\n"
   ]
  },
  {
   "cell_type": "code",
   "execution_count": 8,
   "metadata": {},
   "outputs": [
    {
     "name": "stdout",
     "output_type": "stream",
     "text": [
      "DEBUG: No existing taxonomy file found, creating default taxonomy\n"
     ]
    }
   ],
   "source": [
    "parser = IngredientParser(\n",
    "\n",
    ")"
   ]
  },
  {
   "cell_type": "code",
   "execution_count": 10,
   "metadata": {},
   "outputs": [
    {
     "name": "stdout",
     "output_type": "stream",
     "text": [
      "DEBUG: parse_ingredients called with 1 ingredients\n",
      "DEBUG: Dictionary match for ingredient #0 'maple-tamarind syrup': maple syrup -> syrup (confidence: 0.9)\n",
      "DEBUG: After dictionary lookup: 1 matches, 0 for LLM\n",
      "DEBUG: Final results count: 1 for 1 input ingredients\n"
     ]
    },
    {
     "data": {
      "text/plain": [
       "[IngredientMatch(brand=None, specific_type='maple syrup', category='syrup', confidence=0.9, source='dictionary')]"
      ]
     },
     "execution_count": 10,
     "metadata": {},
     "output_type": "execute_result"
    }
   ],
   "source": [
    "parser.parse_ingredients([\"maple-tamarind syrup\"])"
   ]
  },
  {
   "cell_type": "code",
   "execution_count": null,
   "metadata": {},
   "outputs": [],
   "source": []
  }
 ],
 "metadata": {
  "kernelspec": {
   "display_name": "py313",
   "language": "python",
   "name": "python3"
  },
  "language_info": {
   "codemirror_mode": {
    "name": "ipython",
    "version": 3
   },
   "file_extension": ".py",
   "mimetype": "text/x-python",
   "name": "python",
   "nbconvert_exporter": "python",
   "pygments_lexer": "ipython3",
   "version": "3.13.3"
  }
 },
 "nbformat": 4,
 "nbformat_minor": 2
}
